{
 "cells": [
  {
   "cell_type": "code",
   "execution_count": 83,
   "metadata": {},
   "outputs": [],
   "source": [
    "#import necessary packages\n",
    "import pandas as pd\n",
    "import numpy as np\n",
    "import matplotlib.pyplot as plt\n",
    "import matplotlib.image as mpimg\n",
    "import seaborn as sns\n",
    "import keras\n",
    "%matplotlib inline\n",
    "\n",
    "np.random.seed(2)\n",
    "\n",
    "from sklearn.model_selection import train_test_split\n",
    "from sklearn.metrics import confusion_matrix\n",
    "import itertools\n",
    "\n",
    "from keras.utils.np_utils import to_categorical # convert to one-hot-encoding\n",
    "from keras.models import Sequential\n",
    "from keras.layers import Dense, Dropout, Flatten, Conv2D, MaxPool2D\n",
    "from keras.optimizers import RMSprop\n",
    "from keras.preprocessing.image import ImageDataGenerator\n",
    "from keras.callbacks import ReduceLROnPlateau\n",
    "sns.set(style='white', context='notebook', palette='deep')"
   ]
  },
  {
   "cell_type": "code",
   "execution_count": 84,
   "metadata": {},
   "outputs": [],
   "source": [
    "#load the data\n",
    "train = pd.read_csv(\"train.csv\")\n",
    "test = pd.read_csv(\"test.csv\")"
   ]
  },
  {
   "cell_type": "code",
   "execution_count": 85,
   "metadata": {},
   "outputs": [
    {
     "data": {
      "text/plain": [
       "1    4684\n",
       "7    4401\n",
       "3    4351\n",
       "9    4188\n",
       "2    4177\n",
       "6    4137\n",
       "0    4132\n",
       "4    4072\n",
       "8    4063\n",
       "5    3795\n",
       "Name: label, dtype: int64"
      ]
     },
     "execution_count": 85,
     "metadata": {},
     "output_type": "execute_result"
    },
    {
     "data": {
      "image/png": "[encoded data removed]",
      "text/plain": [
       "<Figure size 432x288 with 1 Axes>"
      ]
     },
     "metadata": {},
     "output_type": "display_data"
    }
   ],
   "source": [
    "#check data\n",
    "Y_train = train[\"label\"]\n",
    "#drop the column \"label\"\n",
    "X_train = train.drop(labels = [\"label\"],axis = 1) \n",
    "#free some space\n",
    "del train \n",
    "g = sns.countplot(Y_train)\n",
    "Y_train.value_counts()"
   ]
  },
  {
   "cell_type": "code",
   "execution_count": 86,
   "metadata": {},
   "outputs": [
    {
     "data": {
      "text/plain": [
       "count       784\n",
       "unique        1\n",
       "top       False\n",
       "freq        784\n",
       "dtype: object"
      ]
     },
     "execution_count": 86,
     "metadata": {},
     "output_type": "execute_result"
    }
   ],
   "source": [
    "#check data\n",
    "X_train.isnull().any().describe()"
   ]
  },
  {
   "cell_type": "code",
   "execution_count": 87,
   "metadata": {},
   "outputs": [
    {
     "data": {
      "text/plain": [
       "count       784\n",
       "unique        1\n",
       "top       False\n",
       "freq        784\n",
       "dtype: object"
      ]
     },
     "execution_count": 87,
     "metadata": {},
     "output_type": "execute_result"
    }
   ],
   "source": [
    "test.isnull().any().describe()"
   ]
  },
  {
   "cell_type": "code",
   "execution_count": 88,
   "metadata": {},
   "outputs": [],
   "source": [
    "#normalizing data\n",
    "X_train = X_train/255.0\n",
    "test = test/255.0"
   ]
  },
  {
   "cell_type": "code",
   "execution_count": 89,
   "metadata": {},
   "outputs": [],
   "source": [
    "#reshape in 3D (28*28*1)\n",
    "X_train = X_train.values.reshape(-1,28,28,1)\n",
    "test = test.values.reshape(-1,28,28,1)"
   ]
  },
  {
   "cell_type": "code",
   "execution_count": 90,
   "metadata": {},
   "outputs": [],
   "source": [
    "#encode labels (i.e. 2 will be [0,0,1,0,0,0,0,0,0,0])\n",
    "Y_train = to_categorical(Y_train, num_classes = 10)"
   ]
  },
  {
   "cell_type": "code",
   "execution_count": 91,
   "metadata": {},
   "outputs": [],
   "source": [
    "#split train & validation set\n",
    "random_seed = 2\n",
    "X_train, X_val, Y_train, Y_val = train_test_split(X_train, Y_train, test_size = 0.1, random_state=random_seed)"
   ]
  },
  {
   "cell_type": "code",
   "execution_count": 93,
   "metadata": {},
   "outputs": [
    {
     "data": {
      "image/png": "[encoded data removed]",
      "text/plain": [
       "<Figure size 432x288 with 1 Axes>"
      ]
     },
     "metadata": {},
     "output_type": "display_data"
    }
   ],
   "source": [
    "#see an eg\n",
    "g = plt.imshow(X_train[14][:,:,0])"
   ]
  },
  {
   "cell_type": "code",
   "execution_count": 94,
   "metadata": {},
   "outputs": [],
   "source": [
    "#CNN model \n",
    "#architechture is set as: In -> [[Conv2D->relu]*2 -> MaxPool2D -> Dropout]*2 -> Flatten -> Dense -> Dropout -> Out\n",
    "model = Sequential()\n",
    "model.add(Conv2D(filters = 32, kernel_size = (5,5),padding = 'Same', activation ='relu', input_shape = (28,28,1)))\n",
    "model.add(Conv2D(filters = 32, kernel_size = (5,5),padding = 'Same', activation ='relu'))\n",
    "model.add(MaxPool2D(pool_size=(2,2)))\n",
    "model.add(Dropout(0.25))\n",
    "model.add(Conv2D(filters = 64, kernel_size = (3,3),padding = 'Same', activation ='relu'))\n",
    "model.add(Conv2D(filters = 64, kernel_size = (3,3),padding = 'Same', activation ='relu'))\n",
    "model.add(MaxPool2D(pool_size=(2,2), strides=(2,2)))\n",
    "model.add(Dropout(0.25))\n",
    "model.add(Flatten())\n",
    "model.add(Dense(256, activation = \"relu\"))\n",
    "model.add(Dropout(0.5))\n",
    "model.add(Dense(10, activation = \"softmax\"))"
   ]
  },
  {
   "cell_type": "code",
   "execution_count": 95,
   "metadata": {},
   "outputs": [],
   "source": [
    "#optimizer\n",
    "optimizer = RMSprop(lr=0.001, rho=0.9, epsilon=1e-08, decay=0.0)"
   ]
  },
  {
   "cell_type": "code",
   "execution_count": 96,
   "metadata": {},
   "outputs": [],
   "source": [
    "#compile model\n",
    "model.compile(optimizer = optimizer , loss = \"categorical_crossentropy\", metrics=[\"accuracy\"])"
   ]
  },
  {
   "cell_type": "code",
   "execution_count": 97,
   "metadata": {},
   "outputs": [],
   "source": [
    "#learning rate annealer\n",
    "learning_rate_reduction = ReduceLROnPlateau(monitor='accuracy', patience=3, verbose=1, factor=0.5, min_lr=0.00001)"
   ]
  },
  {
   "cell_type": "code",
   "execution_count": 98,
   "metadata": {},
   "outputs": [],
   "source": [
    "#epochs=30 gave accuracy of 99.55%\n",
    "epochs = 50\n",
    "batch_size = 86"
   ]
  },
  {
   "cell_type": "code",
   "execution_count": 99,
   "metadata": {},
   "outputs": [],
   "source": [
    "#data augmentation\n",
    "datagen = ImageDataGenerator(\n",
    "        featurewise_center=False,  # set input mean to 0\n",
    "        samplewise_center=False,  # set each sample mean to 0\n",
    "        featurewise_std_normalization=False,  # divide inputs by std of the dataset\n",
    "        samplewise_std_normalization=False,  # divide each input by its std\n",
    "        zca_whitening=False,  # apply ZCA whitening\n",
    "        rotation_range=10,  # randomly rotate images in the range (degrees, 0 to 180)\n",
    "        zoom_range = 0.1, # Randomly zoom image \n",
    "        width_shift_range=0.1,  # randomly shift images horizontally (fraction of total width)\n",
    "        height_shift_range=0.1,  # randomly shift images vertically (fraction of total height)\n",
    "        horizontal_flip=False,  # randomly flip images\n",
    "        vertical_flip=False)  # randomly flip images\n",
    "datagen.fit(X_train)"
   ]
  },
  {
   "cell_type": "code",
   "execution_count": 100,
   "metadata": {},
   "outputs": [
    {
     "name": "stdout",
     "output_type": "stream",
     "text": [
      "Epoch 1/50\n",
      " - 7s - loss: 0.4183 - accuracy: 0.8669 - val_loss: 0.0612 - val_accuracy: 0.9821\n",
      "Epoch 2/50\n",
      " - 7s - loss: 0.1304 - accuracy: 0.9605 - val_loss: 0.0436 - val_accuracy: 0.9857\n",
      "Epoch 3/50\n",
      " - 7s - loss: 0.0940 - accuracy: 0.9724 - val_loss: 0.0363 - val_accuracy: 0.9879\n",
      "Epoch 4/50\n",
      " - 7s - loss: 0.0775 - accuracy: 0.9767 - val_loss: 0.0616 - val_accuracy: 0.9826\n",
      "Epoch 5/50\n",
      " - 7s - loss: 0.0705 - accuracy: 0.9790 - val_loss: 0.0250 - val_accuracy: 0.9907\n",
      "Epoch 6/50\n",
      " - 7s - loss: 0.0658 - accuracy: 0.9808 - val_loss: 0.0375 - val_accuracy: 0.9888\n",
      "Epoch 7/50\n",
      " - 7s - loss: 0.0618 - accuracy: 0.9815 - val_loss: 0.0288 - val_accuracy: 0.9921\n",
      "Epoch 8/50\n",
      " - 7s - loss: 0.0607 - accuracy: 0.9829 - val_loss: 0.0225 - val_accuracy: 0.9948\n",
      "Epoch 9/50\n",
      " - 7s - loss: 0.0578 - accuracy: 0.9837 - val_loss: 0.0381 - val_accuracy: 0.9886\n",
      "Epoch 10/50\n",
      " - 7s - loss: 0.0598 - accuracy: 0.9825 - val_loss: 0.0278 - val_accuracy: 0.9914\n",
      "Epoch 11/50\n",
      " - 7s - loss: 0.0567 - accuracy: 0.9842 - val_loss: 0.0218 - val_accuracy: 0.9931\n",
      "Epoch 12/50\n",
      " - 7s - loss: 0.0589 - accuracy: 0.9837 - val_loss: 0.0242 - val_accuracy: 0.9933\n",
      "Epoch 13/50\n",
      " - 7s - loss: 0.0594 - accuracy: 0.9842 - val_loss: 0.0286 - val_accuracy: 0.9924\n",
      "Epoch 14/50\n",
      " - 7s - loss: 0.0609 - accuracy: 0.9840 - val_loss: 0.0253 - val_accuracy: 0.9933\n",
      "\n",
      "Epoch 00014: ReduceLROnPlateau reducing learning rate to 0.0005000000237487257.\n",
      "Epoch 15/50\n",
      " - 7s - loss: 0.0483 - accuracy: 0.9873 - val_loss: 0.0207 - val_accuracy: 0.9943\n",
      "Epoch 16/50\n",
      " - 7s - loss: 0.0463 - accuracy: 0.9869 - val_loss: 0.0236 - val_accuracy: 0.9940\n",
      "Epoch 17/50\n",
      " - 7s - loss: 0.0421 - accuracy: 0.9878 - val_loss: 0.0251 - val_accuracy: 0.9943\n",
      "Epoch 18/50\n",
      " - 7s - loss: 0.0429 - accuracy: 0.9879 - val_loss: 0.0219 - val_accuracy: 0.9948\n",
      "Epoch 19/50\n",
      " - 7s - loss: 0.0430 - accuracy: 0.9880 - val_loss: 0.0200 - val_accuracy: 0.9948\n",
      "Epoch 20/50\n",
      " - 7s - loss: 0.0435 - accuracy: 0.9877 - val_loss: 0.0234 - val_accuracy: 0.9938\n",
      "Epoch 21/50\n",
      " - 7s - loss: 0.0422 - accuracy: 0.9880 - val_loss: 0.0302 - val_accuracy: 0.9936\n",
      "Epoch 22/50\n",
      " - 7s - loss: 0.0447 - accuracy: 0.9866 - val_loss: 0.0222 - val_accuracy: 0.9952\n",
      "\n",
      "Epoch 00022: ReduceLROnPlateau reducing learning rate to 0.0002500000118743628.\n",
      "Epoch 23/50\n",
      " - 9s - loss: 0.0378 - accuracy: 0.9893 - val_loss: 0.0207 - val_accuracy: 0.9950\n",
      "Epoch 24/50\n",
      " - 7s - loss: 0.0377 - accuracy: 0.9902 - val_loss: 0.0263 - val_accuracy: 0.9936\n",
      "Epoch 25/50\n",
      " - 7s - loss: 0.0347 - accuracy: 0.9896 - val_loss: 0.0218 - val_accuracy: 0.9940\n",
      "Epoch 26/50\n",
      " - 7s - loss: 0.0342 - accuracy: 0.9901 - val_loss: 0.0213 - val_accuracy: 0.9948\n",
      "Epoch 27/50\n",
      " - 7s - loss: 0.0379 - accuracy: 0.9897 - val_loss: 0.0179 - val_accuracy: 0.9955\n",
      "\n",
      "Epoch 00027: ReduceLROnPlateau reducing learning rate to 0.0001250000059371814.\n",
      "Epoch 28/50\n",
      " - 7s - loss: 0.0331 - accuracy: 0.9905 - val_loss: 0.0215 - val_accuracy: 0.9943\n",
      "Epoch 29/50\n",
      " - 7s - loss: 0.0318 - accuracy: 0.9913 - val_loss: 0.0268 - val_accuracy: 0.9931\n",
      "Epoch 30/50\n",
      " - 7s - loss: 0.0320 - accuracy: 0.9908 - val_loss: 0.0264 - val_accuracy: 0.9940\n",
      "Epoch 31/50\n",
      " - 7s - loss: 0.0334 - accuracy: 0.9911 - val_loss: 0.0190 - val_accuracy: 0.9957\n",
      "Epoch 32/50\n",
      " - 7s - loss: 0.0319 - accuracy: 0.9907 - val_loss: 0.0243 - val_accuracy: 0.9940\n",
      "\n",
      "Epoch 00032: ReduceLROnPlateau reducing learning rate to 6.25000029685907e-05.\n",
      "Epoch 33/50\n",
      " - 7s - loss: 0.0303 - accuracy: 0.9913 - val_loss: 0.0242 - val_accuracy: 0.9943\n",
      "Epoch 34/50\n",
      " - 7s - loss: 0.0305 - accuracy: 0.9912 - val_loss: 0.0232 - val_accuracy: 0.9940\n",
      "Epoch 35/50\n",
      " - 7s - loss: 0.0311 - accuracy: 0.9915 - val_loss: 0.0233 - val_accuracy: 0.9940\n",
      "Epoch 36/50\n",
      " - 7s - loss: 0.0271 - accuracy: 0.9924 - val_loss: 0.0264 - val_accuracy: 0.9943\n",
      "Epoch 37/50\n",
      " - 7s - loss: 0.0280 - accuracy: 0.9919 - val_loss: 0.0239 - val_accuracy: 0.9948\n",
      "Epoch 38/50\n",
      " - 7s - loss: 0.0303 - accuracy: 0.9912 - val_loss: 0.0218 - val_accuracy: 0.9952\n",
      "Epoch 39/50\n",
      " - 7s - loss: 0.0320 - accuracy: 0.9908 - val_loss: 0.0248 - val_accuracy: 0.9938\n",
      "\n",
      "Epoch 00039: ReduceLROnPlateau reducing learning rate to 3.125000148429535e-05.\n",
      "Epoch 40/50\n",
      " - 7s - loss: 0.0270 - accuracy: 0.9923 - val_loss: 0.0261 - val_accuracy: 0.9940\n",
      "Epoch 41/50\n",
      " - 7s - loss: 0.0307 - accuracy: 0.9917 - val_loss: 0.0229 - val_accuracy: 0.9943\n",
      "Epoch 42/50\n",
      " - 7s - loss: 0.0302 - accuracy: 0.9913 - val_loss: 0.0263 - val_accuracy: 0.9940\n",
      "\n",
      "Epoch 00042: ReduceLROnPlateau reducing learning rate to 1.5625000742147677e-05.\n",
      "Epoch 43/50\n",
      " - 7s - loss: 0.0261 - accuracy: 0.9922 - val_loss: 0.0278 - val_accuracy: 0.9938\n",
      "Epoch 44/50\n",
      " - 7s - loss: 0.0284 - accuracy: 0.9922 - val_loss: 0.0242 - val_accuracy: 0.9945\n",
      "Epoch 45/50\n",
      " - 7s - loss: 0.0278 - accuracy: 0.9923 - val_loss: 0.0240 - val_accuracy: 0.9943\n",
      "\n",
      "Epoch 00045: ReduceLROnPlateau reducing learning rate to 1e-05.\n",
      "Epoch 46/50\n",
      " - 7s - loss: 0.0284 - accuracy: 0.9916 - val_loss: 0.0234 - val_accuracy: 0.9945\n",
      "Epoch 47/50\n",
      " - 7s - loss: 0.0283 - accuracy: 0.9916 - val_loss: 0.0230 - val_accuracy: 0.9945\n",
      "Epoch 48/50\n",
      " - 7s - loss: 0.0242 - accuracy: 0.9929 - val_loss: 0.0252 - val_accuracy: 0.9940\n",
      "Epoch 49/50\n",
      " - 7s - loss: 0.0257 - accuracy: 0.9923 - val_loss: 0.0255 - val_accuracy: 0.9940\n",
      "Epoch 50/50\n",
      " - 7s - loss: 0.0281 - accuracy: 0.9919 - val_loss: 0.0249 - val_accuracy: 0.9940\n"
     ]
    }
   ],
   "source": [
    "#fit model\n",
    "history = model.fit_generator(datagen.flow(X_train,Y_train, batch_size=batch_size),\n",
    "                              epochs = epochs, validation_data = (X_val,Y_val),\n",
    "                              verbose = 2, steps_per_epoch=X_train.shape[0] // batch_size\n",
    "                              , callbacks=[learning_rate_reduction])"
   ]
  },
  {
   "cell_type": "code",
   "execution_count": 101,
   "metadata": {},
   "outputs": [
    {
     "data": {
      "image/png": "[encoded data removed]",
      "text/plain": [
       "<Figure size 432x288 with 2 Axes>"
      ]
     },
     "metadata": {},
     "output_type": "display_data"
    }
   ],
   "source": [
    "#loss and accuracy curves for training and validation \n",
    "fig, ax = plt.subplots(2,1)\n",
    "ax[0].plot(history.history['loss'], color='b', label=\"Training loss\")\n",
    "ax[0].plot(history.history['val_loss'], color='r', label=\"validation loss\",axes =ax[0])\n",
    "legend = ax[0].legend(loc='best', shadow=True)\n",
    "ax[1].plot(history.history['accuracy'], color='b', label=\"Training accuracy\")\n",
    "ax[1].plot(history.history['val_accuracy'], color='r',label=\"Validation accuracy\")\n",
    "legend = ax[1].legend(loc='best', shadow=True)"
   ]
  },
  {
   "cell_type": "code",
   "execution_count": 102,
   "metadata": {},
   "outputs": [
    {
     "data": {
      "image/png": "[encoded data removed]",
      "text/plain": [
       "<Figure size 432x288 with 2 Axes>"
      ]
     },
     "metadata": {},
     "output_type": "display_data"
    }
   ],
   "source": [
    "def plot_confusion_matrix(cm, classes, normalize=False, title='Confusion matrix', cmap=plt.cm.Blues):\n",
    "    plt.imshow(cm, interpolation='nearest', cmap=cmap)\n",
    "    plt.title(title)\n",
    "    plt.colorbar()\n",
    "    tick_marks = np.arange(len(classes))\n",
    "    plt.xticks(tick_marks, classes, rotation=45)\n",
    "    plt.yticks(tick_marks, classes)\n",
    "    if normalize:\n",
    "        cm = cm.astype('float') / cm.sum(axis=1)[:, np.newaxis]\n",
    "    thresh = cm.max() / 2.\n",
    "    for i, j in itertools.product(range(cm.shape[0]), range(cm.shape[1])):\n",
    "        plt.text(j, i, cm[i, j],\n",
    "                 horizontalalignment=\"center\",\n",
    "                 color=\"white\" if cm[i, j] > thresh else \"black\")\n",
    "    plt.tight_layout()\n",
    "    plt.ylabel('True label')\n",
    "    plt.xlabel('Predicted label')\n",
    "# Predict the values from the validation dataset\n",
    "Y_pred = model.predict(X_val)\n",
    "# Convert predictions classes to one hot vectors \n",
    "Y_pred_classes = np.argmax(Y_pred,axis = 1) \n",
    "# Convert validation observations to one hot vectors\n",
    "Y_true = np.argmax(Y_val,axis = 1) \n",
    "# compute the confusion matrix\n",
    "confusion_mtx = confusion_matrix(Y_true, Y_pred_classes) \n",
    "# plot the confusion matrix\n",
    "plot_confusion_matrix(confusion_mtx, classes = range(10))"
   ]
  },
  {
   "cell_type": "code",
   "execution_count": 103,
   "metadata": {},
   "outputs": [
    {
     "data": {
      "image/png": "[encoded data removed]",
      "text/plain": [
       "<Figure size 432x288 with 6 Axes>"
      ]
     },
     "metadata": {},
     "output_type": "display_data"
    }
   ],
   "source": [
    "#errors are difference between predicted labels and true labels\n",
    "errors = (Y_pred_classes - Y_true != 0)\n",
    "Y_pred_classes_errors = Y_pred_classes[errors]\n",
    "Y_pred_errors = Y_pred[errors]\n",
    "Y_true_errors = Y_true[errors]\n",
    "X_val_errors = X_val[errors]\n",
    "def display_errors(errors_index,img_errors,pred_errors, obs_errors):\n",
    "    #func shows 6 errors and predicted labels\n",
    "    n = 0\n",
    "    nrows = 2\n",
    "    ncols = 3\n",
    "    fig, ax = plt.subplots(nrows,ncols,sharex=True,sharey=True)\n",
    "    for row in range(nrows):\n",
    "        for col in range(ncols):\n",
    "            error = errors_index[n]\n",
    "            ax[row,col].imshow((img_errors[error]).reshape((28,28)))\n",
    "            ax[row,col].set_title(\"Predicted label :{}\\nTrue label :{}\".format(pred_errors[error],obs_errors[error]))\n",
    "            n += 1\n",
    "# Probabilities of the wrong predicted numbers\n",
    "Y_pred_errors_prob = np.max(Y_pred_errors,axis = 1)\n",
    "# Predicted probabilities of the true values in the error set\n",
    "true_prob_errors = np.diagonal(np.take(Y_pred_errors, Y_true_errors, axis=1))\n",
    "# Difference between the probability of the predicted label and the true label\n",
    "delta_pred_true_errors = Y_pred_errors_prob - true_prob_errors\n",
    "# Sorted list of the delta prob errors\n",
    "sorted_dela_errors = np.argsort(delta_pred_true_errors)\n",
    "# Top 6 errors \n",
    "most_important_errors = sorted_dela_errors[-6:]\n",
    "# Show the top 6 errors\n",
    "display_errors(most_important_errors, X_val_errors, Y_pred_classes_errors, Y_true_errors)"
   ]
  },
  {
   "cell_type": "code",
   "execution_count": 104,
   "metadata": {},
   "outputs": [],
   "source": [
    "# predict results\n",
    "results = model.predict(test)\n",
    "# select the indix with the maximum probability\n",
    "results = np.argmax(results,axis = 1)\n",
    "results = pd.Series(results,name=\"Label\")"
   ]
  },
  {
   "cell_type": "code",
   "execution_count": 82,
   "metadata": {},
   "outputs": [],
   "source": []
  },
  {
   "cell_type": "code",
   "execution_count": null,
   "metadata": {},
   "outputs": [],
   "source": []
  }
 ],
 "metadata": {
  "kernelspec": {
   "display_name": "Python 3",
   "language": "python",
   "name": "python3"
  },
  "language_info": {
   "codemirror_mode": {
    "name": "ipython",
    "version": 3
   },
   "file_extension": ".py",
   "mimetype": "text/x-python",
   "name": "python",
   "nbconvert_exporter": "python",
   "pygments_lexer": "ipython3",
   "version": "3.7.6"
  }
 },
 "nbformat": 4,
 "nbformat_minor": 4
}
