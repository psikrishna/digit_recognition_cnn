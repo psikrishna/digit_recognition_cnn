{
 "cells": [
  {
   "cell_type": "code",
   "execution_count": 105,
   "metadata": {},
   "outputs": [],
   "source": [
    "#import necessary packages\n",
    "import pandas as pd\n",
    "import numpy as np\n",
    "import matplotlib.pyplot as plt\n",
    "import matplotlib.image as mpimg\n",
    "import seaborn as sns\n",
    "import keras\n",
    "%matplotlib inline\n",
    "np.random.seed(2)\n",
    "from sklearn.model_selection import train_test_split\n",
    "from sklearn.metrics import confusion_matrix\n",
    "import itertools\n",
    "#this will help to convert to the one-hot-encoding\n",
    "from keras.utils.np_utils import to_categorical\n",
    "from keras.models import Sequential\n",
    "from keras.layers import Dense, Dropout, Flatten, Conv2D, MaxPool2D\n",
    "#optimizer\n",
    "from keras.optimizers import RMSprop\n",
    "from keras.preprocessing.image import ImageDataGenerator\n",
    "#to help in annealing the cost\n",
    "from keras.callbacks import ReduceLROnPlateau\n",
    "sns.set(style='white', context='notebook', palette='deep')"
   ]
  },
  {
   "cell_type": "code",
   "execution_count": 106,
   "metadata": {},
   "outputs": [],
   "source": [
    "#load the data\n",
    "train = pd.read_csv(\"train.csv\")\n",
    "test = pd.read_csv(\"test.csv\")"
   ]
  },
  {
   "cell_type": "code",
   "execution_count": 107,
   "metadata": {},
   "outputs": [
    {
     "data": {
      "text/plain": [
       "1    4684\n",
       "7    4401\n",
       "3    4351\n",
       "9    4188\n",
       "2    4177\n",
       "6    4137\n",
       "0    4132\n",
       "4    4072\n",
       "8    4063\n",
       "5    3795\n",
       "Name: label, dtype: int64"
      ]
     },
     "execution_count": 107,
     "metadata": {},
     "output_type": "execute_result"
    },
    {
     "data": {
      "image/png": "[encoded data removed]",
      "text/plain": [
       "<Figure size 432x288 with 1 Axes>"
      ]
     },
     "metadata": {},
     "output_type": "display_data"
    }
   ],
   "source": [
    "#check data\n",
    "Y_train = train[\"label\"]\n",
    "#drop the column \"label\"\n",
    "X_train = train.drop(labels = [\"label\"],axis = 1) \n",
    "#free some space\n",
    "del train \n",
    "g = sns.countplot(Y_train)\n",
    "Y_train.value_counts()"
   ]
  },
  {
   "cell_type": "code",
   "execution_count": 108,
   "metadata": {},
   "outputs": [
    {
     "data": {
      "text/plain": [
       "count       784\n",
       "unique        1\n",
       "top       False\n",
       "freq        784\n",
       "dtype: object"
      ]
     },
     "execution_count": 108,
     "metadata": {},
     "output_type": "execute_result"
    }
   ],
   "source": [
    "#check data\n",
    "X_train.isnull().any().describe()"
   ]
  },
  {
   "cell_type": "code",
   "execution_count": 109,
   "metadata": {},
   "outputs": [
    {
     "data": {
      "text/plain": [
       "count       784\n",
       "unique        1\n",
       "top       False\n",
       "freq        784\n",
       "dtype: object"
      ]
     },
     "execution_count": 109,
     "metadata": {},
     "output_type": "execute_result"
    }
   ],
   "source": [
    "#test for null values\n",
    "test.isnull().any().describe()"
   ]
  },
  {
   "cell_type": "code",
   "execution_count": 110,
   "metadata": {},
   "outputs": [],
   "source": [
    "#normalizing data\n",
    "X_train = X_train/255.0\n",
    "test = test/255.0"
   ]
  },
  {
   "cell_type": "code",
   "execution_count": 111,
   "metadata": {},
   "outputs": [],
   "source": [
    "#reshape in 3D (28*28*1)\n",
    "X_train = X_train.values.reshape(-1,28,28,1)\n",
    "test = test.values.reshape(-1,28,28,1)"
   ]
  },
  {
   "cell_type": "code",
   "execution_count": 112,
   "metadata": {},
   "outputs": [],
   "source": [
    "#encode labels (i.e. 2 will be [0,0,1,0,0,0,0,0,0,0])\n",
    "Y_train = to_categorical(Y_train, num_classes = 10)"
   ]
  },
  {
   "cell_type": "code",
   "execution_count": 113,
   "metadata": {},
   "outputs": [],
   "source": [
    "#split train & validation set\n",
    "random_seed = 2\n",
    "X_train, X_val, Y_train, Y_val = train_test_split(X_train, Y_train, test_size = 0.1, random_state=random_seed)"
   ]
  },
  {
   "cell_type": "code",
   "execution_count": 114,
   "metadata": {},
   "outputs": [
    {
     "data": {
      "image/png": "[encoded data removed]",
      "text/plain": [
       "<Figure size 432x288 with 1 Axes>"
      ]
     },
     "metadata": {},
     "output_type": "display_data"
    }
   ],
   "source": [
    "#see an eg\n",
    "g = plt.imshow(X_train[14][:,:,0])"
   ]
  },
  {
   "cell_type": "code",
   "execution_count": 115,
   "metadata": {},
   "outputs": [],
   "source": [
    "#CNN model \n",
    "#architechture is set as: In -> [[Conv2D->relu]*2 -> MaxPool2D -> Dropout]*2 -> Flatten -> Dense -> Dropout -> Out\n",
    "#architecture reference from Yassine Ghouzam's Kaggle article\n",
    "model = Sequential()\n",
    "model.add(Conv2D(filters = 32, kernel_size = (5,5),padding = 'Same', activation ='relu', input_shape = (28,28,1)))\n",
    "model.add(Conv2D(filters = 32, kernel_size = (5,5),padding = 'Same', activation ='relu'))\n",
    "model.add(MaxPool2D(pool_size=(2,2)))\n",
    "model.add(Dropout(0.25))\n",
    "model.add(Conv2D(filters = 64, kernel_size = (3,3),padding = 'Same', activation ='relu'))\n",
    "model.add(Conv2D(filters = 64, kernel_size = (3,3),padding = 'Same', activation ='relu'))\n",
    "model.add(MaxPool2D(pool_size=(2,2), strides=(2,2)))\n",
    "model.add(Dropout(0.25))\n",
    "model.add(Flatten())\n",
    "model.add(Dense(256, activation = \"relu\"))\n",
    "model.add(Dropout(0.5))\n",
    "model.add(Dense(10, activation = \"softmax\"))"
   ]
  },
  {
   "cell_type": "code",
   "execution_count": 116,
   "metadata": {},
   "outputs": [],
   "source": [
    "#optimizer\n",
    "optimizer = RMSprop(lr=0.001, rho=0.9, epsilon=1e-08, decay=0.0)"
   ]
  },
  {
   "cell_type": "code",
   "execution_count": 117,
   "metadata": {},
   "outputs": [],
   "source": [
    "#compile model\n",
    "model.compile(optimizer = optimizer , loss = \"categorical_crossentropy\", metrics=[\"accuracy\"])"
   ]
  },
  {
   "cell_type": "code",
   "execution_count": 118,
   "metadata": {},
   "outputs": [],
   "source": [
    "#learning rate annealer\n",
    "learning_rate_reduction = ReduceLROnPlateau(monitor='accuracy', patience=3, verbose=1, factor=0.5, min_lr=0.00001)"
   ]
  },
  {
   "cell_type": "code",
   "execution_count": 119,
   "metadata": {},
   "outputs": [],
   "source": [
    "#epochs=30 gave accuracy of 99.55%, 50  gave 99.40%\n",
    "epochs = 30\n",
    "batch_size = 86"
   ]
  },
  {
   "cell_type": "code",
   "execution_count": 120,
   "metadata": {},
   "outputs": [],
   "source": [
    "#data augmentation\n",
    "datagen = ImageDataGenerator(\n",
    "        featurewise_center=False,\n",
    "        samplewise_center=False,\n",
    "        featurewise_std_normalization=False,\n",
    "        samplewise_std_normalization=False,\n",
    "        zca_whitening=False,\n",
    "        rotation_range=10,#randomly rotate images\n",
    "        zoom_range = 0.1,#randomly zoom images \n",
    "        width_shift_range=0.1,#shift image horizantally (acc. to the fraction of width)\n",
    "        height_shift_range=0.1,#shift image vertically\n",
    "        horizontal_flip=False,\n",
    "        vertical_flip=False)\n",
    "datagen.fit(X_train)"
   ]
  },
  {
   "cell_type": "code",
   "execution_count": 121,
   "metadata": {},
   "outputs": [
    {
     "name": "stdout",
     "output_type": "stream",
     "text": [
      "Epoch 1/30\n",
      " - 25s - loss: 0.4152 - accuracy: 0.8668 - val_loss: 0.0695 - val_accuracy: 0.9802\n",
      "Epoch 2/30\n",
      " - 23s - loss: 0.1303 - accuracy: 0.9617 - val_loss: 0.0436 - val_accuracy: 0.9881\n",
      "Epoch 3/30\n",
      " - 23s - loss: 0.0940 - accuracy: 0.9713 - val_loss: 0.0290 - val_accuracy: 0.9902\n",
      "Epoch 4/30\n",
      " - 23s - loss: 0.0801 - accuracy: 0.9771 - val_loss: 0.0531 - val_accuracy: 0.9838\n",
      "Epoch 5/30\n",
      " - 24s - loss: 0.0683 - accuracy: 0.9799 - val_loss: 0.0280 - val_accuracy: 0.9921\n",
      "Epoch 6/30\n",
      " - 24s - loss: 0.0628 - accuracy: 0.9813 - val_loss: 0.0217 - val_accuracy: 0.9914\n",
      "Epoch 7/30\n",
      " - 24s - loss: 0.0640 - accuracy: 0.9817 - val_loss: 0.0303 - val_accuracy: 0.9924\n",
      "Epoch 8/30\n",
      " - 24s - loss: 0.0624 - accuracy: 0.9821 - val_loss: 0.0251 - val_accuracy: 0.9912\n",
      "Epoch 9/30\n",
      " - 23s - loss: 0.0618 - accuracy: 0.9832 - val_loss: 0.0270 - val_accuracy: 0.9921\n",
      "Epoch 10/30\n",
      " - 24s - loss: 0.0595 - accuracy: 0.9829 - val_loss: 0.0167 - val_accuracy: 0.9943\n",
      "Epoch 11/30\n",
      " - 24s - loss: 0.0570 - accuracy: 0.9848 - val_loss: 0.0236 - val_accuracy: 0.9940\n",
      "Epoch 12/30\n",
      " - 23s - loss: 0.0568 - accuracy: 0.9842 - val_loss: 0.0174 - val_accuracy: 0.9940\n",
      "Epoch 13/30\n",
      " - 24s - loss: 0.0593 - accuracy: 0.9838 - val_loss: 0.0220 - val_accuracy: 0.9933\n",
      "Epoch 14/30\n",
      " - 23s - loss: 0.0629 - accuracy: 0.9837 - val_loss: 0.0248 - val_accuracy: 0.9929\n",
      "\n",
      "Epoch 00014: ReduceLROnPlateau reducing learning rate to 0.0005000000237487257.\n",
      "Epoch 15/30\n",
      " - 23s - loss: 0.0469 - accuracy: 0.9874 - val_loss: 0.0233 - val_accuracy: 0.9933\n",
      "Epoch 16/30\n",
      " - 23s - loss: 0.0428 - accuracy: 0.9887 - val_loss: 0.0221 - val_accuracy: 0.9940\n",
      "Epoch 17/30\n",
      " - 23s - loss: 0.0463 - accuracy: 0.9873 - val_loss: 0.0278 - val_accuracy: 0.9929\n",
      "Epoch 18/30\n",
      " - 24s - loss: 0.0455 - accuracy: 0.9879 - val_loss: 0.0279 - val_accuracy: 0.9936\n",
      "Epoch 19/30\n",
      " - 24s - loss: 0.0459 - accuracy: 0.9872 - val_loss: 0.0203 - val_accuracy: 0.9938\n",
      "\n",
      "Epoch 00019: ReduceLROnPlateau reducing learning rate to 0.0002500000118743628.\n",
      "Epoch 20/30\n",
      " - 23s - loss: 0.0363 - accuracy: 0.9894 - val_loss: 0.0212 - val_accuracy: 0.9936\n",
      "Epoch 21/30\n",
      " - 23s - loss: 0.0379 - accuracy: 0.9903 - val_loss: 0.0226 - val_accuracy: 0.9929\n",
      "Epoch 22/30\n",
      " - 24s - loss: 0.0374 - accuracy: 0.9902 - val_loss: 0.0214 - val_accuracy: 0.9945\n",
      "Epoch 23/30\n",
      " - 24s - loss: 0.0366 - accuracy: 0.9900 - val_loss: 0.0223 - val_accuracy: 0.9940\n",
      "Epoch 24/30\n",
      " - 24s - loss: 0.0367 - accuracy: 0.9894 - val_loss: 0.0225 - val_accuracy: 0.9943\n",
      "\n",
      "Epoch 00024: ReduceLROnPlateau reducing learning rate to 0.0001250000059371814.\n",
      "Epoch 25/30\n",
      " - 23s - loss: 0.0319 - accuracy: 0.9905 - val_loss: 0.0185 - val_accuracy: 0.9955\n",
      "Epoch 26/30\n",
      " - 24s - loss: 0.0322 - accuracy: 0.9911 - val_loss: 0.0173 - val_accuracy: 0.9955\n",
      "Epoch 27/30\n",
      " - 24s - loss: 0.0299 - accuracy: 0.9915 - val_loss: 0.0212 - val_accuracy: 0.9955\n",
      "Epoch 28/30\n",
      " - 23s - loss: 0.0334 - accuracy: 0.9907 - val_loss: 0.0187 - val_accuracy: 0.9952\n",
      "Epoch 29/30\n",
      " - 24s - loss: 0.0331 - accuracy: 0.9910 - val_loss: 0.0193 - val_accuracy: 0.9948\n",
      "Epoch 30/30\n",
      " - 23s - loss: 0.0324 - accuracy: 0.9906 - val_loss: 0.0177 - val_accuracy: 0.9957\n",
      "\n",
      "Epoch 00030: ReduceLROnPlateau reducing learning rate to 6.25000029685907e-05.\n"
     ]
    }
   ],
   "source": [
    "#fit model\n",
    "history = model.fit_generator(datagen.flow(X_train,Y_train, batch_size=batch_size),\n",
    "                              epochs = epochs, validation_data = (X_val,Y_val),\n",
    "                              verbose = 2, steps_per_epoch=X_train.shape[0] // batch_size\n",
    "                              , callbacks=[learning_rate_reduction])"
   ]
  },
  {
   "cell_type": "code",
   "execution_count": 122,
   "metadata": {},
   "outputs": [
    {
     "data": {
      "image/png": "[encoded data removed]",
      "text/plain": [
       "<Figure size 432x288 with 2 Axes>"
      ]
     },
     "metadata": {},
     "output_type": "display_data"
    }
   ],
   "source": [
    "#loss and accuracy curves for training and validation \n",
    "fig, ax = plt.subplots(2,1)\n",
    "ax[0].plot(history.history['loss'], color='b', label=\"Training loss\")\n",
    "ax[0].plot(history.history['val_loss'], color='r', label=\"validation loss\",axes =ax[0])\n",
    "legend = ax[0].legend(loc='best', shadow=True)\n",
    "ax[1].plot(history.history['accuracy'], color='b', label=\"Training accuracy\")\n",
    "ax[1].plot(history.history['val_accuracy'], color='r',label=\"Validation accuracy\")\n",
    "legend = ax[1].legend(loc='best', shadow=True)"
   ]
  },
  {
   "cell_type": "code",
   "execution_count": 123,
   "metadata": {},
   "outputs": [
    {
     "data": {
      "image/png": "[encoded data removed]",
      "text/plain": [
       "<Figure size 432x288 with 2 Axes>"
      ]
     },
     "metadata": {},
     "output_type": "display_data"
    }
   ],
   "source": [
    "#plot the confusion matrix\n",
    "def plot_confusion_matrix(cm, classes, normalize=False, title='Confusion matrix', cmap=plt.cm.Blues):\n",
    "    plt.imshow(cm, interpolation='nearest', cmap=cmap)\n",
    "    plt.title(title)\n",
    "    plt.colorbar()\n",
    "    tick_marks = np.arange(len(classes))\n",
    "    plt.xticks(tick_marks, classes, rotation=45)\n",
    "    plt.yticks(tick_marks, classes)\n",
    "    if normalize:\n",
    "        cm = cm.astype('float') / cm.sum(axis=1)[:, np.newaxis]\n",
    "    thresh = cm.max() / 2.\n",
    "    for i, j in itertools.product(range(cm.shape[0]), range(cm.shape[1])):\n",
    "        plt.text(j, i, cm[i, j],\n",
    "                 horizontalalignment=\"center\",\n",
    "                 color=\"white\" if cm[i, j] > thresh else \"black\")\n",
    "    plt.tight_layout()\n",
    "    plt.ylabel('True label')\n",
    "    plt.xlabel('Predicted label')\n",
    "Y_pred = model.predict(X_val) \n",
    "Y_pred_classes = np.argmax(Y_pred,axis = 1) \n",
    "Y_true = np.argmax(Y_val,axis = 1) \n",
    "#confusion matrix\n",
    "confusion_mtx = confusion_matrix(Y_true, Y_pred_classes) \n",
    "# plot\n",
    "plot_confusion_matrix(confusion_mtx, classes = range(10))"
   ]
  },
  {
   "cell_type": "code",
   "execution_count": 124,
   "metadata": {},
   "outputs": [
    {
     "data": {
      "image/png": "[encoded data removed]",
      "text/plain": [
       "<Figure size 432x288 with 6 Axes>"
      ]
     },
     "metadata": {},
     "output_type": "display_data"
    }
   ],
   "source": [
    "#errors are difference between predicted labels and true labels\n",
    "errors = (Y_pred_classes - Y_true != 0)\n",
    "Y_pred_classes_errors = Y_pred_classes[errors]\n",
    "Y_pred_errors = Y_pred[errors]\n",
    "Y_true_errors = Y_true[errors]\n",
    "X_val_errors = X_val[errors]\n",
    "def display_errors(errors_index,img_errors,pred_errors, obs_errors):\n",
    "    #func shows 6 errors and predicted labels\n",
    "    n = 0\n",
    "    nrows = 2\n",
    "    ncols = 3\n",
    "    fig, ax = plt.subplots(nrows,ncols,sharex=True,sharey=True)\n",
    "    for row in range(nrows):\n",
    "        for col in range(ncols):\n",
    "            error = errors_index[n]\n",
    "            ax[row,col].imshow((img_errors[error]).reshape((28,28)))\n",
    "            ax[row,col].set_title(\"Predicted label :{}\\nTrue label :{}\".format(pred_errors[error],obs_errors[error]))\n",
    "            n += 1\n",
    "#probabilities of wrong...\n",
    "Y_pred_errors_prob = np.max(Y_pred_errors,axis = 1)\n",
    "true_prob_errors = np.diagonal(np.take(Y_pred_errors, Y_true_errors, axis=1))\n",
    "#predicted label~true label\n",
    "delta_pred_true_errors = Y_pred_errors_prob - true_prob_errors\n",
    "sorted_dela_errors = np.argsort(delta_pred_true_errors)\n",
    "#top-6 errors \n",
    "most_important_errors = sorted_dela_errors[-6:]\n",
    "display_errors(most_important_errors, X_val_errors, Y_pred_classes_errors, Y_true_errors)"
   ]
  },
  {
   "cell_type": "code",
   "execution_count": 104,
   "metadata": {},
   "outputs": [],
   "source": [
    "#most of these errors can not be tackled even by human eyes thus our model is trained well"
   ]
  },
  {
   "cell_type": "code",
   "execution_count": 82,
   "metadata": {},
   "outputs": [],
   "source": [
    "#fin"
   ]
  },
  {
   "cell_type": "code",
   "execution_count": null,
   "metadata": {},
   "outputs": [],
   "source": []
  }
 ],
 "metadata": {
  "kernelspec": {
   "display_name": "Python 3",
   "language": "python",
   "name": "python3"
  },
  "language_info": {
   "codemirror_mode": {
    "name": "ipython",
    "version": 3
   },
   "file_extension": ".py",
   "mimetype": "text/x-python",
   "name": "python",
   "nbconvert_exporter": "python",
   "pygments_lexer": "ipython3",
   "version": "3.7.6"
  }
 },
 "nbformat": 4,
 "nbformat_minor": 4
}
